{
  "nbformat": 4,
  "nbformat_minor": 0,
  "metadata": {
    "colab": {
      "name": "Keras_Activation_Maximization.ipynb",
      "version": "0.3.2",
      "provenance": [],
      "collapsed_sections": []
    },
    "kernelspec": {
      "name": "python3",
      "display_name": "Python 3"
    },
    "accelerator": "GPU"
  },
  "cells": [
    {
      "metadata": {
        "id": "QyQk9uwZToag",
        "colab_type": "text"
      },
      "cell_type": "markdown",
      "source": [
        "# Activation Maximization with Keras"
      ]
    },
    {
      "metadata": {
        "id": "JV0gtVMITwMj",
        "colab_type": "text"
      },
      "cell_type": "markdown",
      "source": [
        "## 1 - Building and Training a model for MNIST dataset"
      ]
    },
    {
      "metadata": {
        "id": "b9dawAzoRkyS",
        "colab_type": "code",
        "outputId": "1dda41ed-f563-44cd-e6e3-f1ddad0aca04",
        "colab": {
          "base_uri": "https://localhost:8080/",
          "height": 173
        }
      },
      "cell_type": "code",
      "source": [
        "from __future__ import print_function\n",
        "\n",
        "import numpy as np\n",
        "import keras\n",
        "\n",
        "from keras.datasets import mnist\n",
        "from keras.models import Sequential, Model\n",
        "from keras.layers import Dense, Dropout, Flatten, Activation, Input\n",
        "from keras.layers import Conv2D, MaxPooling2D\n",
        "from keras import backend as K\n",
        "\n",
        "batch_size = 64\n",
        "num_classes = 10\n",
        "epochs = 1\n",
        "\n",
        "# input image dimensions\n",
        "img_rows, img_cols = 28, 28\n",
        "\n",
        "# the data, shuffled and split between train and test sets\n",
        "(x_train, y_train), (x_test, y_test) = mnist.load_data()\n",
        "\n",
        "if K.image_data_format() == 'channels_first':\n",
        "    x_train = x_train.reshape(x_train.shape[0], 1, img_rows, img_cols)\n",
        "    x_test = x_test.reshape(x_test.shape[0], 1, img_rows, img_cols)\n",
        "    input_shape = (1, img_rows, img_cols)\n",
        "else:\n",
        "    x_train = x_train.reshape(x_train.shape[0], img_rows, img_cols, 1)\n",
        "    x_test = x_test.reshape(x_test.shape[0], img_rows, img_cols, 1)\n",
        "    input_shape = (img_rows, img_cols, 1)\n",
        "\n",
        "x_train = x_train.astype('float32')\n",
        "x_test = x_test.astype('float32')\n",
        "x_train /= 255\n",
        "x_test /= 255\n",
        "print('x_train shape:', x_train.shape)\n",
        "print(x_train.shape[0], 'train samples')\n",
        "print(x_test.shape[0], 'test samples')\n",
        "\n",
        "# convert class vectors to binary class matrices\n",
        "y_train = keras.utils.to_categorical(y_train, num_classes)\n",
        "y_test = keras.utils.to_categorical(y_test, num_classes)\n",
        "\n",
        "model = Sequential()\n",
        "model.add(Conv2D(32, kernel_size=(3, 3),\n",
        "                 activation='relu',\n",
        "                 input_shape=input_shape))\n",
        "model.add(Conv2D(64, (3, 3), activation='relu'))\n",
        "model.add(MaxPooling2D(pool_size=(2, 2)))\n",
        "model.add(Dropout(0.25))\n",
        "model.add(Flatten())\n",
        "model.add(Dense(128, activation='relu'))\n",
        "model.add(Dropout(0.5))\n",
        "model.add(Dense(num_classes, activation='softmax', name='preds'))\n",
        "\n",
        "model.compile(loss=keras.losses.categorical_crossentropy,\n",
        "              optimizer=keras.optimizers.Adam(),\n",
        "              metrics=['accuracy'])\n",
        "\n",
        "model.fit(x_train, y_train,\n",
        "          batch_size=batch_size,\n",
        "          epochs=epochs,\n",
        "          verbose=1,\n",
        "          validation_data=(x_test, y_test))\n",
        "\n",
        "score = model.evaluate(x_test, y_test, verbose=0)\n",
        "print('Test loss:', score[0])\n",
        "print('Test accuracy:', score[1])"
      ],
      "execution_count": 0,
      "outputs": [
        {
          "output_type": "stream",
          "text": [
            "Using TensorFlow backend.\n"
          ],
          "name": "stderr"
        },
        {
          "output_type": "stream",
          "text": [
            "x_train shape: (60000, 28, 28, 1)\n",
            "60000 train samples\n",
            "10000 test samples\n",
            "Train on 60000 samples, validate on 10000 samples\n",
            "Epoch 1/1\n",
            "60000/60000 [==============================] - 13s 217us/step - loss: 0.2013 - acc: 0.9383 - val_loss: 0.0422 - val_acc: 0.9860\n",
            "Test loss: 0.04217943321976345\n",
            "Test accuracy: 0.986\n"
          ],
          "name": "stdout"
        }
      ]
    },
    {
      "metadata": {
        "id": "rl3tV3RTTud2",
        "colab_type": "text"
      },
      "cell_type": "markdown",
      "source": [
        "## 2 - Install keras-vis package"
      ]
    },
    {
      "metadata": {
        "id": "LlwCYHDOR5V5",
        "colab_type": "code",
        "outputId": "0f8fbdb4-a656-454a-c3f9-3994b61ef6ba",
        "colab": {
          "base_uri": "https://localhost:8080/",
          "height": 575
        }
      },
      "cell_type": "code",
      "source": [
        "!pip install git+https://github.com/raghakot/keras-vis.git --upgrade"
      ],
      "execution_count": 0,
      "outputs": [
        {
          "output_type": "stream",
          "text": [
            "Collecting git+https://github.com/raghakot/keras-vis.git\n",
            "  Cloning https://github.com/raghakot/keras-vis.git to /tmp/pip-req-build-5ejmatf8\n",
            "Requirement already satisfied, skipping upgrade: keras in /usr/local/lib/python3.6/dist-packages (from keras-vis==0.4.1) (2.2.4)\n",
            "Requirement already satisfied, skipping upgrade: six in /usr/local/lib/python3.6/dist-packages (from keras-vis==0.4.1) (1.11.0)\n",
            "Requirement already satisfied, skipping upgrade: scikit-image in /usr/local/lib/python3.6/dist-packages (from keras-vis==0.4.1) (0.13.1)\n",
            "Requirement already satisfied, skipping upgrade: matplotlib in /usr/local/lib/python3.6/dist-packages (from keras-vis==0.4.1) (3.0.2)\n",
            "Requirement already satisfied, skipping upgrade: h5py in /usr/local/lib/python3.6/dist-packages (from keras-vis==0.4.1) (2.8.0)\n",
            "Requirement already satisfied, skipping upgrade: pyyaml in /usr/local/lib/python3.6/dist-packages (from keras->keras-vis==0.4.1) (3.13)\n",
            "Requirement already satisfied, skipping upgrade: numpy>=1.9.1 in /usr/local/lib/python3.6/dist-packages (from keras->keras-vis==0.4.1) (1.14.6)\n",
            "Requirement already satisfied, skipping upgrade: scipy>=0.14 in /usr/local/lib/python3.6/dist-packages (from keras->keras-vis==0.4.1) (1.1.0)\n",
            "Requirement already satisfied, skipping upgrade: keras-preprocessing>=1.0.5 in /usr/local/lib/python3.6/dist-packages (from keras->keras-vis==0.4.1) (1.0.5)\n",
            "Requirement already satisfied, skipping upgrade: keras-applications>=1.0.6 in /usr/local/lib/python3.6/dist-packages (from keras->keras-vis==0.4.1) (1.0.6)\n",
            "Requirement already satisfied, skipping upgrade: networkx>=1.8 in /usr/local/lib/python3.6/dist-packages (from scikit-image->keras-vis==0.4.1) (2.2)\n",
            "Requirement already satisfied, skipping upgrade: pillow>=2.1.0 in /usr/local/lib/python3.6/dist-packages (from scikit-image->keras-vis==0.4.1) (4.0.0)\n",
            "Requirement already satisfied, skipping upgrade: PyWavelets>=0.4.0 in /usr/local/lib/python3.6/dist-packages (from scikit-image->keras-vis==0.4.1) (1.0.1)\n",
            "Requirement already satisfied, skipping upgrade: pyparsing!=2.0.4,!=2.1.2,!=2.1.6,>=2.0.1 in /usr/local/lib/python3.6/dist-packages (from matplotlib->keras-vis==0.4.1) (2.3.1)\n",
            "Requirement already satisfied, skipping upgrade: python-dateutil>=2.1 in /usr/local/lib/python3.6/dist-packages (from matplotlib->keras-vis==0.4.1) (2.5.3)\n",
            "Requirement already satisfied, skipping upgrade: kiwisolver>=1.0.1 in /usr/local/lib/python3.6/dist-packages (from matplotlib->keras-vis==0.4.1) (1.0.1)\n",
            "Requirement already satisfied, skipping upgrade: cycler>=0.10 in /usr/local/lib/python3.6/dist-packages (from matplotlib->keras-vis==0.4.1) (0.10.0)\n",
            "Requirement already satisfied, skipping upgrade: decorator>=4.3.0 in /usr/local/lib/python3.6/dist-packages (from networkx>=1.8->scikit-image->keras-vis==0.4.1) (4.3.0)\n",
            "Requirement already satisfied, skipping upgrade: olefile in /usr/local/lib/python3.6/dist-packages (from pillow>=2.1.0->scikit-image->keras-vis==0.4.1) (0.46)\n",
            "Requirement already satisfied, skipping upgrade: setuptools in /usr/local/lib/python3.6/dist-packages (from kiwisolver>=1.0.1->matplotlib->keras-vis==0.4.1) (40.6.3)\n",
            "Building wheels for collected packages: keras-vis\n",
            "  Running setup.py bdist_wheel for keras-vis ... \u001b[?25l-\b \b\\\b \bdone\n",
            "\u001b[?25h  Stored in directory: /tmp/pip-ephem-wheel-cache-t4dxq0v8/wheels/c5/ae/e7/b34d1cb48b1898f606a5cce08ebc9521fa0588f37f1e590d9f\n",
            "Successfully built keras-vis\n",
            "Installing collected packages: keras-vis\n",
            "  Found existing installation: keras-vis 0.4.1\n",
            "    Uninstalling keras-vis-0.4.1:\n",
            "      Successfully uninstalled keras-vis-0.4.1\n",
            "Successfully installed keras-vis-0.4.1\n"
          ],
          "name": "stdout"
        }
      ]
    },
    {
      "metadata": {
        "id": "VfUvr95ST8Pl",
        "colab_type": "text"
      },
      "cell_type": "markdown",
      "source": [
        "## 3 - Visualizing the output layer for the digit 0"
      ]
    },
    {
      "metadata": {
        "id": "0kGVMq8zRwdF",
        "colab_type": "code",
        "outputId": "729a8d40-f251-402d-dd6c-f5bf5fc82c84",
        "colab": {
          "base_uri": "https://localhost:8080/",
          "height": 391
        }
      },
      "cell_type": "code",
      "source": [
        "from vis.visualization import visualize_activation\n",
        "from vis.utils import utils\n",
        "from keras import activations\n",
        "from matplotlib import pyplot as plt\n",
        "%matplotlib inline\n",
        "\n",
        "plt.rcParams['figure.figsize'] = (18, 6)\n",
        "\n",
        "# Utility to search for layer index by name. \n",
        "# Alternatively we can specify this as -1 since it corresponds to the last layer.\n",
        "layer_idx = utils.find_layer_idx(model, 'preds')\n",
        "\n",
        "# Swap softmax with linear\n",
        "model.layers[layer_idx].activation = activations.linear\n",
        "model = utils.apply_modifications(model)\n",
        "\n",
        "# This is the output node we want to maximize.\n",
        "filter_idx = 0\n",
        "img = visualize_activation(model, layer_idx, filter_indices=filter_idx)\n",
        "plt.imshow(img[..., 0])\n"
      ],
      "execution_count": 0,
      "outputs": [
        {
          "output_type": "execute_result",
          "data": {
            "text/plain": [
              "<matplotlib.image.AxesImage at 0x7fc88f101278>"
            ]
          },
          "metadata": {
            "tags": []
          },
          "execution_count": 4
        },
        {
          "output_type": "display_data",
          "data": {
            "image/png": "[encoded data removed]",
            "text/plain": [
              "<Figure size 1296x432 with 1 Axes>"
            ]
          },
          "metadata": {
            "tags": []
          }
        }
      ]
    },
    {
      "metadata": {
        "id": "Yo2M6fqCUG4r",
        "colab_type": "text"
      },
      "cell_type": "markdown",
      "source": [
        "## 3.1 - Specifying the input range"
      ]
    },
    {
      "metadata": {
        "id": "HEbFyH15U4Nn",
        "colab_type": "code",
        "outputId": "db991167-8788-44bf-d23a-a70d474ae084",
        "colab": {
          "base_uri": "https://localhost:8080/",
          "height": 10811
        }
      },
      "cell_type": "code",
      "source": [
        "img = visualize_activation(model, layer_idx, filter_indices=filter_idx, input_range=(0., 1.), verbose=True)\n",
        "plt.imshow(img[..., 0])"
      ],
      "execution_count": 0,
      "outputs": [
        {
          "output_type": "stream",
          "text": [
            "Iteration: 1, named_losses: [('ActivationMax Loss', 0.13321277),\n",
            " ('L-6.0 Norm Loss', 0.019825127),\n",
            " ('TV(2.0) Loss', 0.09251488)], overall loss: 0.24555277824401855\n",
            "Iteration: 2, named_losses: [('ActivationMax Loss', -13.98005),\n",
            " ('L-6.0 Norm Loss', 0.17341146),\n",
            " ('TV(2.0) Loss', 531.6827)], overall loss: 517.8760375976562\n",
            "Iteration: 3, named_losses: [('ActivationMax Loss', -59.545086),\n",
            " ('L-6.0 Norm Loss', 0.17766616),\n",
            " ('TV(2.0) Loss', 109.2427)], overall loss: 49.87527847290039\n",
            "Iteration: 4, named_losses: [('ActivationMax Loss', -111.46145),\n",
            " ('L-6.0 Norm Loss', 0.1880037),\n",
            " ('TV(2.0) Loss', 122.743454)], overall loss: 11.470008850097656\n",
            "Iteration: 5, named_losses: [('ActivationMax Loss', -150.29791),\n",
            " ('L-6.0 Norm Loss', 0.21633795),\n",
            " ('TV(2.0) Loss', 112.35663)], overall loss: -37.724945068359375\n",
            "Iteration: 6, named_losses: [('ActivationMax Loss', -186.35754),\n",
            " ('L-6.0 Norm Loss', 0.2401504),\n",
            " ('TV(2.0) Loss', 127.94883)], overall loss: -58.16857147216797\n",
            "Iteration: 7, named_losses: [('ActivationMax Loss', -216.88765),\n",
            " ('L-6.0 Norm Loss', 0.26391697),\n",
            " ('TV(2.0) Loss', 121.577705)], overall loss: -95.04602813720703\n",
            "Iteration: 8, named_losses: [('ActivationMax Loss', -243.76831),\n",
            " ('L-6.0 Norm Loss', 0.29159665),\n",
            " ('TV(2.0) Loss', 138.01833)], overall loss: -105.45838928222656\n",
            "Iteration: 9, named_losses: [('ActivationMax Loss', -267.19684),\n",
            " ('L-6.0 Norm Loss', 0.3150548),\n",
            " ('TV(2.0) Loss', 133.99008)], overall loss: -132.89169311523438\n",
            "Iteration: 10, named_losses: [('ActivationMax Loss', -286.9505),\n",
            " ('L-6.0 Norm Loss', 0.33497074),\n",
            " ('TV(2.0) Loss', 143.07028)], overall loss: -143.54525756835938\n",
            "Iteration: 11, named_losses: [('ActivationMax Loss', -309.5015),\n",
            " ('L-6.0 Norm Loss', 0.3581346),\n",
            " ('TV(2.0) Loss', 143.10678)], overall loss: -166.03659057617188\n",
            "Iteration: 12, named_losses: [('ActivationMax Loss', -332.43365),\n",
            " ('L-6.0 Norm Loss', 0.3811663),\n",
            " ('TV(2.0) Loss', 159.70316)], overall loss: -172.34933471679688\n",
            "Iteration: 13, named_losses: [('ActivationMax Loss', -356.75903),\n",
            " ('L-6.0 Norm Loss', 0.40274447),\n",
            " ('TV(2.0) Loss', 164.36894)], overall loss: -191.9873504638672\n",
            "Iteration: 14, named_losses: [('ActivationMax Loss', -374.34442),\n",
            " ('L-6.0 Norm Loss', 0.42108968),\n",
            " ('TV(2.0) Loss', 175.54034)], overall loss: -198.38299560546875\n",
            "Iteration: 15, named_losses: [('ActivationMax Loss', -393.93506),\n",
            " ('L-6.0 Norm Loss', 0.44150215),\n",
            " ('TV(2.0) Loss', 181.63908)], overall loss: -211.85447692871094\n",
            "Iteration: 16, named_losses: [('ActivationMax Loss', -409.2171),\n",
            " ('L-6.0 Norm Loss', 0.4571449),\n",
            " ('TV(2.0) Loss', 191.80681)], overall loss: -216.95314025878906\n",
            "Iteration: 17, named_losses: [('ActivationMax Loss', -424.6535),\n",
            " ('L-6.0 Norm Loss', 0.47520262),\n",
            " ('TV(2.0) Loss', 198.00917)], overall loss: -226.1691436767578\n",
            "Iteration: 18, named_losses: [('ActivationMax Loss', -432.24762),\n",
            " ('L-6.0 Norm Loss', 0.48887524),\n",
            " ('TV(2.0) Loss', 200.47296)], overall loss: -231.28579711914062\n",
            "Iteration: 19, named_losses: [('ActivationMax Loss', -446.66602),\n",
            " ('L-6.0 Norm Loss', 0.5033869),\n",
            " ('TV(2.0) Loss', 207.62013)], overall loss: -238.54249572753906\n",
            "Iteration: 20, named_losses: [('ActivationMax Loss', -455.94318),\n",
            " ('L-6.0 Norm Loss', 0.5164154),\n",
            " ('TV(2.0) Loss', 212.75282)], overall loss: -242.67393493652344\n",
            "Iteration: 21, named_losses: [('ActivationMax Loss', -468.41714),\n",
            " ('L-6.0 Norm Loss', 0.5286175),\n",
            " ('TV(2.0) Loss', 220.48164)], overall loss: -247.40687561035156\n",
            "Iteration: 22, named_losses: [('ActivationMax Loss', -475.46948),\n",
            " ('L-6.0 Norm Loss', 0.5409536),\n",
            " ('TV(2.0) Loss', 225.343)], overall loss: -249.5855255126953\n",
            "Iteration: 23, named_losses: [('ActivationMax Loss', -486.36853),\n",
            " ('L-6.0 Norm Loss', 0.552098),\n",
            " ('TV(2.0) Loss', 232.01779)], overall loss: -253.79864501953125\n",
            "Iteration: 24, named_losses: [('ActivationMax Loss', -490.36328),\n",
            " ('L-6.0 Norm Loss', 0.56293935),\n",
            " ('TV(2.0) Loss', 234.99376)], overall loss: -254.8065948486328\n",
            "Iteration: 25, named_losses: [('ActivationMax Loss', -499.70804),\n",
            " ('L-6.0 Norm Loss', 0.5728274),\n",
            " ('TV(2.0) Loss', 239.99612)], overall loss: -259.13909912109375\n",
            "Iteration: 26, named_losses: [('ActivationMax Loss', -503.33173),\n",
            " ('L-6.0 Norm Loss', 0.5817328),\n",
            " ('TV(2.0) Loss', 243.286)], overall loss: -259.4639892578125\n",
            "Iteration: 27, named_losses: [('ActivationMax Loss', -511.07233),\n",
            " ('L-6.0 Norm Loss', 0.5898843),\n",
            " ('TV(2.0) Loss', 246.94357)], overall loss: -263.53887939453125\n",
            "Iteration: 28, named_losses: [('ActivationMax Loss', -513.56464),\n",
            " ('L-6.0 Norm Loss', 0.59942454),\n",
            " ('TV(2.0) Loss', 249.3863)], overall loss: -263.57891845703125\n",
            "Iteration: 29, named_losses: [('ActivationMax Loss', -521.52203),\n",
            " ('L-6.0 Norm Loss', 0.60632175),\n",
            " ('TV(2.0) Loss', 253.04689)], overall loss: -267.86883544921875\n",
            "Iteration: 30, named_losses: [('ActivationMax Loss', -524.1702),\n",
            " ('L-6.0 Norm Loss', 0.6142383),\n",
            " ('TV(2.0) Loss', 255.4382)], overall loss: -268.1177673339844\n",
            "Iteration: 31, named_losses: [('ActivationMax Loss', -530.7331),\n",
            " ('L-6.0 Norm Loss', 0.62041557),\n",
            " ('TV(2.0) Loss', 259.09378)], overall loss: -271.0188903808594\n",
            "Iteration: 32, named_losses: [('ActivationMax Loss', -533.6874),\n",
            " ('L-6.0 Norm Loss', 0.6285688),\n",
            " ('TV(2.0) Loss', 261.3791)], overall loss: -271.67974853515625\n",
            "Iteration: 33, named_losses: [('ActivationMax Loss', -536.6253),\n",
            " ('L-6.0 Norm Loss', 0.6326033),\n",
            " ('TV(2.0) Loss', 261.9617)], overall loss: -274.0309753417969\n",
            "Iteration: 34, named_losses: [('ActivationMax Loss', -540.77155),\n",
            " ('L-6.0 Norm Loss', 0.6404629),\n",
            " ('TV(2.0) Loss', 266.36096)], overall loss: -273.7701416015625\n",
            "Iteration: 35, named_losses: [('ActivationMax Loss', -543.2612),\n",
            " ('L-6.0 Norm Loss', 0.64441866),\n",
            " ('TV(2.0) Loss', 265.9069)], overall loss: -276.7099304199219\n",
            "Iteration: 36, named_losses: [('ActivationMax Loss', -546.8355),\n",
            " ('L-6.0 Norm Loss', 0.6512626),\n",
            " ('TV(2.0) Loss', 270.00537)], overall loss: -276.17889404296875\n",
            "Iteration: 37, named_losses: [('ActivationMax Loss', -550.9084),\n",
            " ('L-6.0 Norm Loss', 0.6560357),\n",
            " ('TV(2.0) Loss', 271.3384)], overall loss: -278.9139709472656\n",
            "Iteration: 38, named_losses: [('ActivationMax Loss', -552.3182),\n",
            " ('L-6.0 Norm Loss', 0.6627361),\n",
            " ('TV(2.0) Loss', 272.99924)], overall loss: -278.6562194824219\n",
            "Iteration: 39, named_losses: [('ActivationMax Loss', -557.39105),\n",
            " ('L-6.0 Norm Loss', 0.6666941),\n",
            " ('TV(2.0) Loss', 276.82156)], overall loss: -279.9028015136719\n",
            "Iteration: 40, named_losses: [('ActivationMax Loss', -559.3184),\n",
            " ('L-6.0 Norm Loss', 0.673007),\n",
            " ('TV(2.0) Loss', 278.38928)], overall loss: -280.256103515625\n",
            "Iteration: 41, named_losses: [('ActivationMax Loss', -561.8531),\n",
            " ('L-6.0 Norm Loss', 0.67613244),\n",
            " ('TV(2.0) Loss', 279.40112)], overall loss: -281.77581787109375\n",
            "Iteration: 42, named_losses: [('ActivationMax Loss', -563.59503),\n",
            " ('L-6.0 Norm Loss', 0.68203056),\n",
            " ('TV(2.0) Loss', 280.40457)], overall loss: -282.5084533691406\n",
            "Iteration: 43, named_losses: [('ActivationMax Loss', -566.60455),\n",
            " ('L-6.0 Norm Loss', 0.6853574),\n",
            " ('TV(2.0) Loss', 282.8814)], overall loss: -283.03778076171875\n",
            "Iteration: 44, named_losses: [('ActivationMax Loss', -570.0004),\n",
            " ('L-6.0 Norm Loss', 0.6917352),\n",
            " ('TV(2.0) Loss', 285.67508)], overall loss: -283.6336364746094\n",
            "Iteration: 45, named_losses: [('ActivationMax Loss', -570.5715),\n",
            " ('L-6.0 Norm Loss', 0.69295514),\n",
            " ('TV(2.0) Loss', 285.6251)], overall loss: -284.2534484863281\n",
            "Iteration: 46, named_losses: [('ActivationMax Loss', -572.40607),\n",
            " ('L-6.0 Norm Loss', 0.6983851),\n",
            " ('TV(2.0) Loss', 286.40372)], overall loss: -285.3039855957031\n",
            "Iteration: 47, named_losses: [('ActivationMax Loss', -574.3307),\n",
            " ('L-6.0 Norm Loss', 0.70011765),\n",
            " ('TV(2.0) Loss', 288.1574)], overall loss: -285.47314453125\n",
            "Iteration: 48, named_losses: [('ActivationMax Loss', -575.53406),\n",
            " ('L-6.0 Norm Loss', 0.70585114),\n",
            " ('TV(2.0) Loss', 288.6348)], overall loss: -286.1933898925781\n",
            "Iteration: 49, named_losses: [('ActivationMax Loss', -578.7376),\n",
            " ('L-6.0 Norm Loss', 0.7075043),\n",
            " ('TV(2.0) Loss', 291.28714)], overall loss: -286.7429504394531\n",
            "Iteration: 50, named_losses: [('ActivationMax Loss', -579.72687),\n",
            " ('L-6.0 Norm Loss', 0.7135745),\n",
            " ('TV(2.0) Loss', 292.47708)], overall loss: -286.5362243652344\n",
            "Iteration: 51, named_losses: [('ActivationMax Loss', -583.27405),\n",
            " ('L-6.0 Norm Loss', 0.7141725),\n",
            " ('TV(2.0) Loss', 295.1743)], overall loss: -287.3855895996094\n",
            "Iteration: 52, named_losses: [('ActivationMax Loss', -584.31024),\n",
            " ('L-6.0 Norm Loss', 0.719935),\n",
            " ('TV(2.0) Loss', 295.94055)], overall loss: -287.6497802734375\n",
            "Iteration: 53, named_losses: [('ActivationMax Loss', -584.6006),\n",
            " ('L-6.0 Norm Loss', 0.71998084),\n",
            " ('TV(2.0) Loss', 295.04556)], overall loss: -288.8350524902344\n",
            "Iteration: 54, named_losses: [('ActivationMax Loss', -586.8415),\n",
            " ('L-6.0 Norm Loss', 0.7262426),\n",
            " ('TV(2.0) Loss', 298.18027)], overall loss: -287.9349670410156\n",
            "Iteration: 55, named_losses: [('ActivationMax Loss', -588.0365),\n",
            " ('L-6.0 Norm Loss', 0.72590894),\n",
            " ('TV(2.0) Loss', 298.4481)], overall loss: -288.8625183105469\n",
            "Iteration: 56, named_losses: [('ActivationMax Loss', -590.2504),\n",
            " ('L-6.0 Norm Loss', 0.7319799),\n",
            " ('TV(2.0) Loss', 300.5004)], overall loss: -289.0180358886719\n",
            "Iteration: 57, named_losses: [('ActivationMax Loss', -591.3277),\n",
            " ('L-6.0 Norm Loss', 0.7329207),\n",
            " ('TV(2.0) Loss', 301.38174)], overall loss: -289.2130432128906\n",
            "Iteration: 58, named_losses: [('ActivationMax Loss', -593.0151),\n",
            " ('L-6.0 Norm Loss', 0.73553306),\n",
            " ('TV(2.0) Loss', 302.55576)], overall loss: -289.7237854003906\n",
            "Iteration: 59, named_losses: [('ActivationMax Loss', -593.2888),\n",
            " ('L-6.0 Norm Loss', 0.7371042),\n",
            " ('TV(2.0) Loss', 302.74677)], overall loss: -289.804931640625\n",
            "Iteration: 60, named_losses: [('ActivationMax Loss', -595.09796),\n",
            " ('L-6.0 Norm Loss', 0.74064),\n",
            " ('TV(2.0) Loss', 303.90015)], overall loss: -290.4571533203125\n",
            "Iteration: 61, named_losses: [('ActivationMax Loss', -595.212),\n",
            " ('L-6.0 Norm Loss', 0.74189645),\n",
            " ('TV(2.0) Loss', 303.49512)], overall loss: -290.9749755859375\n",
            "Iteration: 62, named_losses: [('ActivationMax Loss', -596.5147),\n",
            " ('L-6.0 Norm Loss', 0.74423414),\n",
            " ('TV(2.0) Loss', 305.12695)], overall loss: -290.64349365234375\n",
            "Iteration: 63, named_losses: [('ActivationMax Loss', -598.6693),\n",
            " ('L-6.0 Norm Loss', 0.74708736),\n",
            " ('TV(2.0) Loss', 307.79056)], overall loss: -290.1316833496094\n",
            "Iteration: 64, named_losses: [('ActivationMax Loss', -598.73303),\n",
            " ('L-6.0 Norm Loss', 0.74866295),\n",
            " ('TV(2.0) Loss', 307.70798)], overall loss: -290.2763977050781\n",
            "Iteration: 65, named_losses: [('ActivationMax Loss', -600.8708),\n",
            " ('L-6.0 Norm Loss', 0.751073),\n",
            " ('TV(2.0) Loss', 310.07983)], overall loss: -290.03985595703125\n",
            "Iteration: 66, named_losses: [('ActivationMax Loss', -600.1578),\n",
            " ('L-6.0 Norm Loss', 0.7526605),\n",
            " ('TV(2.0) Loss', 309.18033)], overall loss: -290.2247619628906\n",
            "Iteration: 67, named_losses: [('ActivationMax Loss', -601.45294),\n",
            " ('L-6.0 Norm Loss', 0.75383306),\n",
            " ('TV(2.0) Loss', 310.41794)], overall loss: -290.2811584472656\n",
            "Iteration: 68, named_losses: [('ActivationMax Loss', -601.66754),\n",
            " ('L-6.0 Norm Loss', 0.7568608),\n",
            " ('TV(2.0) Loss', 310.32352)], overall loss: -290.5871887207031\n",
            "Iteration: 69, named_losses: [('ActivationMax Loss', -604.3532),\n",
            " ('L-6.0 Norm Loss', 0.757415),\n",
            " ('TV(2.0) Loss', 312.26828)], overall loss: -291.3275451660156\n",
            "Iteration: 70, named_losses: [('ActivationMax Loss', -605.34863),\n",
            " ('L-6.0 Norm Loss', 0.76139015),\n",
            " ('TV(2.0) Loss', 313.83484)], overall loss: -290.75238037109375\n",
            "Iteration: 71, named_losses: [('ActivationMax Loss', -605.84845),\n",
            " ('L-6.0 Norm Loss', 0.7598937),\n",
            " ('TV(2.0) Loss', 313.3506)], overall loss: -291.73797607421875\n",
            "Iteration: 72, named_losses: [('ActivationMax Loss', -606.2029),\n",
            " ('L-6.0 Norm Loss', 0.7627424),\n",
            " ('TV(2.0) Loss', 314.66382)], overall loss: -290.77630615234375\n",
            "Iteration: 73, named_losses: [('ActivationMax Loss', -607.46606),\n",
            " ('L-6.0 Norm Loss', 0.7632512),\n",
            " ('TV(2.0) Loss', 314.82156)], overall loss: -291.8812561035156\n",
            "Iteration: 74, named_losses: [('ActivationMax Loss', -607.7171),\n",
            " ('L-6.0 Norm Loss', 0.7658248),\n",
            " ('TV(2.0) Loss', 316.1879)], overall loss: -290.7633972167969\n",
            "Iteration: 75, named_losses: [('ActivationMax Loss', -607.2761),\n",
            " ('L-6.0 Norm Loss', 0.76554483),\n",
            " ('TV(2.0) Loss', 314.25992)], overall loss: -292.2506408691406\n",
            "Iteration: 76, named_losses: [('ActivationMax Loss', -608.40045),\n",
            " ('L-6.0 Norm Loss', 0.766716),\n",
            " ('TV(2.0) Loss', 317.3895)], overall loss: -290.2442321777344\n",
            "Iteration: 77, named_losses: [('ActivationMax Loss', -609.26465),\n",
            " ('L-6.0 Norm Loss', 0.76839405),\n",
            " ('TV(2.0) Loss', 316.30194)], overall loss: -292.1943359375\n",
            "Iteration: 78, named_losses: [('ActivationMax Loss', -609.28436),\n",
            " ('L-6.0 Norm Loss', 0.76959175),\n",
            " ('TV(2.0) Loss', 318.35187)], overall loss: -290.16290283203125\n",
            "Iteration: 79, named_losses: [('ActivationMax Loss', -609.4747),\n",
            " ('L-6.0 Norm Loss', 0.770115),\n",
            " ('TV(2.0) Loss', 315.49298)], overall loss: -293.2115478515625\n",
            "Iteration: 80, named_losses: [('ActivationMax Loss', -610.56683),\n",
            " ('L-6.0 Norm Loss', 0.77207404),\n",
            " ('TV(2.0) Loss', 319.8779)], overall loss: -289.9168395996094\n",
            "Iteration: 81, named_losses: [('ActivationMax Loss', -610.84393),\n",
            " ('L-6.0 Norm Loss', 0.7722022),\n",
            " ('TV(2.0) Loss', 317.00394)], overall loss: -293.0677795410156\n",
            "Iteration: 82, named_losses: [('ActivationMax Loss', -610.82184),\n",
            " ('L-6.0 Norm Loss', 0.77320725),\n",
            " ('TV(2.0) Loss', 319.74197)], overall loss: -290.3066711425781\n",
            "Iteration: 83, named_losses: [('ActivationMax Loss', -611.6192),\n",
            " ('L-6.0 Norm Loss', 0.77435774),\n",
            " ('TV(2.0) Loss', 317.53693)], overall loss: -293.30792236328125\n",
            "Iteration: 84, named_losses: [('ActivationMax Loss', -612.6517),\n",
            " ('L-6.0 Norm Loss', 0.77722436),\n",
            " ('TV(2.0) Loss', 321.21118)], overall loss: -290.66326904296875\n",
            "Iteration: 85, named_losses: [('ActivationMax Loss', -612.0278),\n",
            " ('L-6.0 Norm Loss', 0.77620846),\n",
            " ('TV(2.0) Loss', 317.8137)], overall loss: -293.4378967285156\n",
            "Iteration: 86, named_losses: [('ActivationMax Loss', -613.49896),\n",
            " ('L-6.0 Norm Loss', 0.7779777),\n",
            " ('TV(2.0) Loss', 321.8057)], overall loss: -290.9153137207031\n",
            "Iteration: 87, named_losses: [('ActivationMax Loss', -614.23236),\n",
            " ('L-6.0 Norm Loss', 0.7784594),\n",
            " ('TV(2.0) Loss', 320.14758)], overall loss: -293.30633544921875\n",
            "Iteration: 88, named_losses: [('ActivationMax Loss', -615.1882),\n",
            " ('L-6.0 Norm Loss', 0.780892),\n",
            " ('TV(2.0) Loss', 323.33926)], overall loss: -291.0680236816406\n",
            "Iteration: 89, named_losses: [('ActivationMax Loss', -613.7884),\n",
            " ('L-6.0 Norm Loss', 0.77971196),\n",
            " ('TV(2.0) Loss', 320.0685)], overall loss: -292.9401550292969\n",
            "Iteration: 90, named_losses: [('ActivationMax Loss', -614.3073),\n",
            " ('L-6.0 Norm Loss', 0.7809917),\n",
            " ('TV(2.0) Loss', 322.70032)], overall loss: -290.82598876953125\n",
            "Iteration: 91, named_losses: [('ActivationMax Loss', -613.38257),\n",
            " ('L-6.0 Norm Loss', 0.78122175),\n",
            " ('TV(2.0) Loss', 319.54745)], overall loss: -293.0538635253906\n",
            "Iteration: 92, named_losses: [('ActivationMax Loss', -614.5407),\n",
            " ('L-6.0 Norm Loss', 0.783259),\n",
            " ('TV(2.0) Loss', 322.81955)], overall loss: -290.9378967285156\n",
            "Iteration: 93, named_losses: [('ActivationMax Loss', -614.05634),\n",
            " ('L-6.0 Norm Loss', 0.7832435),\n",
            " ('TV(2.0) Loss', 319.9365)], overall loss: -293.3365783691406\n",
            "Iteration: 94, named_losses: [('ActivationMax Loss', -614.47394),\n",
            " ('L-6.0 Norm Loss', 0.7849892),\n",
            " ('TV(2.0) Loss', 322.93124)], overall loss: -290.7577209472656\n",
            "Iteration: 95, named_losses: [('ActivationMax Loss', -614.9001),\n",
            " ('L-6.0 Norm Loss', 0.78384334),\n",
            " ('TV(2.0) Loss', 320.29)], overall loss: -293.8262634277344\n",
            "Iteration: 96, named_losses: [('ActivationMax Loss', -614.36084),\n",
            " ('L-6.0 Norm Loss', 0.786063),\n",
            " ('TV(2.0) Loss', 322.40472)], overall loss: -291.1700439453125\n",
            "Iteration: 97, named_losses: [('ActivationMax Loss', -615.1608),\n",
            " ('L-6.0 Norm Loss', 0.7856536),\n",
            " ('TV(2.0) Loss', 320.49365)], overall loss: -293.88153076171875\n",
            "Iteration: 98, named_losses: [('ActivationMax Loss', -616.1552),\n",
            " ('L-6.0 Norm Loss', 0.78895926),\n",
            " ('TV(2.0) Loss', 324.0178)], overall loss: -291.3484802246094\n",
            "Iteration: 99, named_losses: [('ActivationMax Loss', -615.6597),\n",
            " ('L-6.0 Norm Loss', 0.78761655),\n",
            " ('TV(2.0) Loss', 320.9404)], overall loss: -293.9317321777344\n",
            "Iteration: 100, named_losses: [('ActivationMax Loss', -614.49316),\n",
            " ('L-6.0 Norm Loss', 0.78877),\n",
            " ('TV(2.0) Loss', 322.1434)], overall loss: -291.5610046386719\n",
            "Iteration: 101, named_losses: [('ActivationMax Loss', -614.9484),\n",
            " ('L-6.0 Norm Loss', 0.78857404),\n",
            " ('TV(2.0) Loss', 319.5938)], overall loss: -294.5660400390625\n",
            "Iteration: 102, named_losses: [('ActivationMax Loss', -615.34863),\n",
            " ('L-6.0 Norm Loss', 0.79038674),\n",
            " ('TV(2.0) Loss', 323.88074)], overall loss: -290.677490234375\n",
            "Iteration: 103, named_losses: [('ActivationMax Loss', -615.9521),\n",
            " ('L-6.0 Norm Loss', 0.7894195),\n",
            " ('TV(2.0) Loss', 320.79663)], overall loss: -294.36602783203125\n",
            "Iteration: 104, named_losses: [('ActivationMax Loss', -616.0414),\n",
            " ('L-6.0 Norm Loss', 0.79147595),\n",
            " ('TV(2.0) Loss', 323.56607)], overall loss: -291.6838073730469\n",
            "Iteration: 105, named_losses: [('ActivationMax Loss', -616.5167),\n",
            " ('L-6.0 Norm Loss', 0.7911518),\n",
            " ('TV(2.0) Loss', 320.98712)], overall loss: -294.73846435546875\n",
            "Iteration: 106, named_losses: [('ActivationMax Loss', -617.0639),\n",
            " ('L-6.0 Norm Loss', 0.79252183),\n",
            " ('TV(2.0) Loss', 324.4414)], overall loss: -291.8299560546875\n",
            "Iteration: 107, named_losses: [('ActivationMax Loss', -616.5536),\n",
            " ('L-6.0 Norm Loss', 0.79163545),\n",
            " ('TV(2.0) Loss', 321.04654)], overall loss: -294.7154235839844\n",
            "Iteration: 108, named_losses: [('ActivationMax Loss', -616.1066),\n",
            " ('L-6.0 Norm Loss', 0.7924745),\n",
            " ('TV(2.0) Loss', 322.90775)], overall loss: -292.4064025878906\n",
            "Iteration: 109, named_losses: [('ActivationMax Loss', -617.74677),\n",
            " ('L-6.0 Norm Loss', 0.7938788),\n",
            " ('TV(2.0) Loss', 322.2628)], overall loss: -294.6900939941406\n",
            "Iteration: 110, named_losses: [('ActivationMax Loss', -617.0652),\n",
            " ('L-6.0 Norm Loss', 0.79400074),\n",
            " ('TV(2.0) Loss', 323.91125)], overall loss: -292.35992431640625\n",
            "Iteration: 111, named_losses: [('ActivationMax Loss', -617.9932),\n",
            " ('L-6.0 Norm Loss', 0.79479027),\n",
            " ('TV(2.0) Loss', 322.31274)], overall loss: -294.88568115234375\n",
            "Iteration: 112, named_losses: [('ActivationMax Loss', -619.23566),\n",
            " ('L-6.0 Norm Loss', 0.7957935),\n",
            " ('TV(2.0) Loss', 325.5786)], overall loss: -292.86126708984375\n",
            "Iteration: 113, named_losses: [('ActivationMax Loss', -618.56134),\n",
            " ('L-6.0 Norm Loss', 0.79606396),\n",
            " ('TV(2.0) Loss', 322.53656)], overall loss: -295.22869873046875\n",
            "Iteration: 114, named_losses: [('ActivationMax Loss', -619.29065),\n",
            " ('L-6.0 Norm Loss', 0.79636014),\n",
            " ('TV(2.0) Loss', 325.59204)], overall loss: -292.9022216796875\n",
            "Iteration: 115, named_losses: [('ActivationMax Loss', -618.81537),\n",
            " ('L-6.0 Norm Loss', 0.79719824),\n",
            " ('TV(2.0) Loss', 322.80197)], overall loss: -295.2162170410156\n",
            "Iteration: 116, named_losses: [('ActivationMax Loss', -619.58673),\n",
            " ('L-6.0 Norm Loss', 0.7973828),\n",
            " ('TV(2.0) Loss', 325.3057)], overall loss: -293.4836730957031\n",
            "Iteration: 117, named_losses: [('ActivationMax Loss', -619.6139),\n",
            " ('L-6.0 Norm Loss', 0.7982638),\n",
            " ('TV(2.0) Loss', 324.14423)], overall loss: -294.67138671875\n",
            "Iteration: 118, named_losses: [('ActivationMax Loss', -620.33307),\n",
            " ('L-6.0 Norm Loss', 0.798717),\n",
            " ('TV(2.0) Loss', 326.47644)], overall loss: -293.05792236328125\n",
            "Iteration: 119, named_losses: [('ActivationMax Loss', -618.86365),\n",
            " ('L-6.0 Norm Loss', 0.7987584),\n",
            " ('TV(2.0) Loss', 323.53574)], overall loss: -294.5291442871094\n",
            "Iteration: 120, named_losses: [('ActivationMax Loss', -620.5112),\n",
            " ('L-6.0 Norm Loss', 0.8008961),\n",
            " ('TV(2.0) Loss', 326.58673)], overall loss: -293.12359619140625\n",
            "Iteration: 121, named_losses: [('ActivationMax Loss', -619.03766),\n",
            " ('L-6.0 Norm Loss', 0.7990331),\n",
            " ('TV(2.0) Loss', 323.78683)], overall loss: -294.4518127441406\n",
            "Iteration: 122, named_losses: [('ActivationMax Loss', -620.1016),\n",
            " ('L-6.0 Norm Loss', 0.80085856),\n",
            " ('TV(2.0) Loss', 325.95264)], overall loss: -293.34814453125\n",
            "Iteration: 123, named_losses: [('ActivationMax Loss', -619.6096),\n",
            " ('L-6.0 Norm Loss', 0.80038065),\n",
            " ('TV(2.0) Loss', 324.0888)], overall loss: -294.720458984375\n",
            "Iteration: 124, named_losses: [('ActivationMax Loss', -619.42303),\n",
            " ('L-6.0 Norm Loss', 0.80209893),\n",
            " ('TV(2.0) Loss', 324.79913)], overall loss: -293.82177734375\n",
            "Iteration: 125, named_losses: [('ActivationMax Loss', -619.92267),\n",
            " ('L-6.0 Norm Loss', 0.8016554),\n",
            " ('TV(2.0) Loss', 324.87744)], overall loss: -294.24359130859375\n",
            "Iteration: 126, named_losses: [('ActivationMax Loss', -619.76086),\n",
            " ('L-6.0 Norm Loss', 0.8019958),\n",
            " ('TV(2.0) Loss', 324.65973)], overall loss: -294.29913330078125\n",
            "Iteration: 127, named_losses: [('ActivationMax Loss', -620.2205),\n",
            " ('L-6.0 Norm Loss', 0.80232006),\n",
            " ('TV(2.0) Loss', 324.86652)], overall loss: -294.55169677734375\n",
            "Iteration: 128, named_losses: [('ActivationMax Loss', -619.1744),\n",
            " ('L-6.0 Norm Loss', 0.8023272),\n",
            " ('TV(2.0) Loss', 323.52353)], overall loss: -294.8485412597656\n",
            "Iteration: 129, named_losses: [('ActivationMax Loss', -620.20355),\n",
            " ('L-6.0 Norm Loss', 0.80226576),\n",
            " ('TV(2.0) Loss', 324.8782)], overall loss: -294.5231018066406\n",
            "Iteration: 130, named_losses: [('ActivationMax Loss', -620.4817),\n",
            " ('L-6.0 Norm Loss', 0.80399394),\n",
            " ('TV(2.0) Loss', 324.37268)], overall loss: -295.30499267578125\n",
            "Iteration: 131, named_losses: [('ActivationMax Loss', -620.3775),\n",
            " ('L-6.0 Norm Loss', 0.8033164),\n",
            " ('TV(2.0) Loss', 324.90372)], overall loss: -294.6704406738281\n",
            "Iteration: 132, named_losses: [('ActivationMax Loss', -621.627),\n",
            " ('L-6.0 Norm Loss', 0.80443066),\n",
            " ('TV(2.0) Loss', 324.60883)], overall loss: -296.2137451171875\n",
            "Iteration: 133, named_losses: [('ActivationMax Loss', -620.7332),\n",
            " ('L-6.0 Norm Loss', 0.8049646),\n",
            " ('TV(2.0) Loss', 324.73996)], overall loss: -295.1882629394531\n",
            "Iteration: 134, named_losses: [('ActivationMax Loss', -621.66205),\n",
            " ('L-6.0 Norm Loss', 0.80534804),\n",
            " ('TV(2.0) Loss', 324.52338)], overall loss: -296.33331298828125\n",
            "Iteration: 135, named_losses: [('ActivationMax Loss', -621.5482),\n",
            " ('L-6.0 Norm Loss', 0.80539745),\n",
            " ('TV(2.0) Loss', 325.21106)], overall loss: -295.53173828125\n",
            "Iteration: 136, named_losses: [('ActivationMax Loss', -622.0587),\n",
            " ('L-6.0 Norm Loss', 0.8068326),\n",
            " ('TV(2.0) Loss', 325.07114)], overall loss: -296.1807556152344\n",
            "Iteration: 137, named_losses: [('ActivationMax Loss', -621.4699),\n",
            " ('L-6.0 Norm Loss', 0.8065605),\n",
            " ('TV(2.0) Loss', 325.24246)], overall loss: -295.4208679199219\n",
            "Iteration: 138, named_losses: [('ActivationMax Loss', -621.7386),\n",
            " ('L-6.0 Norm Loss', 0.8069444),\n",
            " ('TV(2.0) Loss', 324.63794)], overall loss: -296.293701171875\n",
            "Iteration: 139, named_losses: [('ActivationMax Loss', -620.6083),\n",
            " ('L-6.0 Norm Loss', 0.8073225),\n",
            " ('TV(2.0) Loss', 324.17926)], overall loss: -295.6217041015625\n",
            "Iteration: 140, named_losses: [('ActivationMax Loss', -621.9371),\n",
            " ('L-6.0 Norm Loss', 0.8088895),\n",
            " ('TV(2.0) Loss', 324.80304)], overall loss: -296.32513427734375\n",
            "Iteration: 141, named_losses: [('ActivationMax Loss', -620.7447),\n",
            " ('L-6.0 Norm Loss', 0.80826974),\n",
            " ('TV(2.0) Loss', 323.9245)], overall loss: -296.01190185546875\n",
            "Iteration: 142, named_losses: [('ActivationMax Loss', -622.368),\n",
            " ('L-6.0 Norm Loss', 0.8089065),\n",
            " ('TV(2.0) Loss', 324.8594)], overall loss: -296.6996765136719\n",
            "Iteration: 143, named_losses: [('ActivationMax Loss', -622.0956),\n",
            " ('L-6.0 Norm Loss', 0.8100841),\n",
            " ('TV(2.0) Loss', 324.97052)], overall loss: -296.31500244140625\n",
            "Iteration: 144, named_losses: [('ActivationMax Loss', -623.08014),\n",
            " ('L-6.0 Norm Loss', 0.81027263),\n",
            " ('TV(2.0) Loss', 325.24808)], overall loss: -297.0217590332031\n",
            "Iteration: 145, named_losses: [('ActivationMax Loss', -623.6099),\n",
            " ('L-6.0 Norm Loss', 0.80985314),\n",
            " ('TV(2.0) Loss', 326.5454)], overall loss: -296.254638671875\n",
            "Iteration: 146, named_losses: [('ActivationMax Loss', -624.1683),\n",
            " ('L-6.0 Norm Loss', 0.81125),\n",
            " ('TV(2.0) Loss', 326.38956)], overall loss: -296.9674377441406\n",
            "Iteration: 147, named_losses: [('ActivationMax Loss', -623.5409),\n",
            " ('L-6.0 Norm Loss', 0.81102633),\n",
            " ('TV(2.0) Loss', 326.59036)], overall loss: -296.1394958496094\n",
            "Iteration: 148, named_losses: [('ActivationMax Loss', -624.37305),\n",
            " ('L-6.0 Norm Loss', 0.81173885),\n",
            " ('TV(2.0) Loss', 326.49414)], overall loss: -297.067138671875\n",
            "Iteration: 149, named_losses: [('ActivationMax Loss', -625.232),\n",
            " ('L-6.0 Norm Loss', 0.812331),\n",
            " ('TV(2.0) Loss', 328.22992)], overall loss: -296.18975830078125\n",
            "Iteration: 150, named_losses: [('ActivationMax Loss', -625.9501),\n",
            " ('L-6.0 Norm Loss', 0.8126594),\n",
            " ('TV(2.0) Loss', 327.66083)], overall loss: -297.4765625\n",
            "Iteration: 151, named_losses: [('ActivationMax Loss', -625.4656),\n",
            " ('L-6.0 Norm Loss', 0.8129395),\n",
            " ('TV(2.0) Loss', 328.00104)], overall loss: -296.651611328125\n",
            "Iteration: 152, named_losses: [('ActivationMax Loss', -626.185),\n",
            " ('L-6.0 Norm Loss', 0.81370676),\n",
            " ('TV(2.0) Loss', 328.15186)], overall loss: -297.21942138671875\n",
            "Iteration: 153, named_losses: [('ActivationMax Loss', -626.2321),\n",
            " ('L-6.0 Norm Loss', 0.81293076),\n",
            " ('TV(2.0) Loss', 328.88116)], overall loss: -296.53802490234375\n",
            "Iteration: 154, named_losses: [('ActivationMax Loss', -626.2789),\n",
            " ('L-6.0 Norm Loss', 0.8144205),\n",
            " ('TV(2.0) Loss', 328.35132)], overall loss: -297.1131591796875\n",
            "Iteration: 155, named_losses: [('ActivationMax Loss', -626.435),\n",
            " ('L-6.0 Norm Loss', 0.813704),\n",
            " ('TV(2.0) Loss', 329.34958)], overall loss: -296.2716979980469\n",
            "Iteration: 156, named_losses: [('ActivationMax Loss', -626.84955),\n",
            " ('L-6.0 Norm Loss', 0.81434906),\n",
            " ('TV(2.0) Loss', 329.13684)], overall loss: -296.89837646484375\n",
            "Iteration: 157, named_losses: [('ActivationMax Loss', -626.80676),\n",
            " ('L-6.0 Norm Loss', 0.8152641),\n",
            " ('TV(2.0) Loss', 329.71307)], overall loss: -296.2784423828125\n",
            "Iteration: 158, named_losses: [('ActivationMax Loss', -627.13696),\n",
            " ('L-6.0 Norm Loss', 0.81572527),\n",
            " ('TV(2.0) Loss', 329.05725)], overall loss: -297.26397705078125\n",
            "Iteration: 159, named_losses: [('ActivationMax Loss', -627.2094),\n",
            " ('L-6.0 Norm Loss', 0.81533575),\n",
            " ('TV(2.0) Loss', 330.0638)], overall loss: -296.3302917480469\n",
            "Iteration: 160, named_losses: [('ActivationMax Loss', -626.9711),\n",
            " ('L-6.0 Norm Loss', 0.8162217),\n",
            " ('TV(2.0) Loss', 328.92523)], overall loss: -297.22967529296875\n",
            "Iteration: 161, named_losses: [('ActivationMax Loss', -626.80273),\n",
            " ('L-6.0 Norm Loss', 0.8159943),\n",
            " ('TV(2.0) Loss', 329.4284)], overall loss: -296.558349609375\n",
            "Iteration: 162, named_losses: [('ActivationMax Loss', -627.8434),\n",
            " ('L-6.0 Norm Loss', 0.8165863),\n",
            " ('TV(2.0) Loss', 329.84457)], overall loss: -297.1822204589844\n",
            "Iteration: 163, named_losses: [('ActivationMax Loss', -627.7632),\n",
            " ('L-6.0 Norm Loss', 0.81738293),\n",
            " ('TV(2.0) Loss', 330.17346)], overall loss: -296.7723388671875\n",
            "Iteration: 164, named_losses: [('ActivationMax Loss', -628.26276),\n",
            " ('L-6.0 Norm Loss', 0.817831),\n",
            " ('TV(2.0) Loss', 330.24808)], overall loss: -297.1968688964844\n",
            "Iteration: 165, named_losses: [('ActivationMax Loss', -628.8315),\n",
            " ('L-6.0 Norm Loss', 0.81787187),\n",
            " ('TV(2.0) Loss', 331.32468)], overall loss: -296.6889343261719\n",
            "Iteration: 166, named_losses: [('ActivationMax Loss', -628.67725),\n",
            " ('L-6.0 Norm Loss', 0.8187388),\n",
            " ('TV(2.0) Loss', 330.3847)], overall loss: -297.47381591796875\n",
            "Iteration: 167, named_losses: [('ActivationMax Loss', -628.6246),\n",
            " ('L-6.0 Norm Loss', 0.81838506),\n",
            " ('TV(2.0) Loss', 331.2457)], overall loss: -296.5605163574219\n",
            "Iteration: 168, named_losses: [('ActivationMax Loss', -629.0391),\n",
            " ('L-6.0 Norm Loss', 0.8187911),\n",
            " ('TV(2.0) Loss', 330.75208)], overall loss: -297.46826171875\n",
            "Iteration: 169, named_losses: [('ActivationMax Loss', -628.79877),\n",
            " ('L-6.0 Norm Loss', 0.8189837),\n",
            " ('TV(2.0) Loss', 331.35388)], overall loss: -296.62591552734375\n",
            "Iteration: 170, named_losses: [('ActivationMax Loss', -629.2956),\n",
            " ('L-6.0 Norm Loss', 0.81899124),\n",
            " ('TV(2.0) Loss', 330.6033)], overall loss: -297.8733215332031\n",
            "Iteration: 171, named_losses: [('ActivationMax Loss', -628.277),\n",
            " ('L-6.0 Norm Loss', 0.8180968),\n",
            " ('TV(2.0) Loss', 330.66455)], overall loss: -296.7943115234375\n",
            "Iteration: 172, named_losses: [('ActivationMax Loss', -629.4726),\n",
            " ('L-6.0 Norm Loss', 0.81910926),\n",
            " ('TV(2.0) Loss', 330.6848)], overall loss: -297.96868896484375\n",
            "Iteration: 173, named_losses: [('ActivationMax Loss', -628.0424),\n",
            " ('L-6.0 Norm Loss', 0.8192358),\n",
            " ('TV(2.0) Loss', 330.0821)], overall loss: -297.14111328125\n",
            "Iteration: 174, named_losses: [('ActivationMax Loss', -630.61005),\n",
            " ('L-6.0 Norm Loss', 0.8204102),\n",
            " ('TV(2.0) Loss', 331.98276)], overall loss: -297.8068542480469\n",
            "Iteration: 175, named_losses: [('ActivationMax Loss', -629.9633),\n",
            " ('L-6.0 Norm Loss', 0.8199459),\n",
            " ('TV(2.0) Loss', 332.22495)], overall loss: -296.9184265136719\n",
            "Iteration: 176, named_losses: [('ActivationMax Loss', -630.4075),\n",
            " ('L-6.0 Norm Loss', 0.82105184),\n",
            " ('TV(2.0) Loss', 332.10248)], overall loss: -297.48394775390625\n",
            "Iteration: 177, named_losses: [('ActivationMax Loss', -630.2496),\n",
            " ('L-6.0 Norm Loss', 0.8199257),\n",
            " ('TV(2.0) Loss', 332.52307)], overall loss: -296.90655517578125\n",
            "Iteration: 178, named_losses: [('ActivationMax Loss', -629.264),\n",
            " ('L-6.0 Norm Loss', 0.8205676),\n",
            " ('TV(2.0) Loss', 331.08044)], overall loss: -297.36297607421875\n",
            "Iteration: 179, named_losses: [('ActivationMax Loss', -629.8787),\n",
            " ('L-6.0 Norm Loss', 0.8207027),\n",
            " ('TV(2.0) Loss', 332.1095)], overall loss: -296.94854736328125\n",
            "Iteration: 180, named_losses: [('ActivationMax Loss', -630.55505),\n",
            " ('L-6.0 Norm Loss', 0.8212124),\n",
            " ('TV(2.0) Loss', 331.96442)], overall loss: -297.7694091796875\n",
            "Iteration: 181, named_losses: [('ActivationMax Loss', -629.9881),\n",
            " ('L-6.0 Norm Loss', 0.8209318),\n",
            " ('TV(2.0) Loss', 332.38675)], overall loss: -296.7804260253906\n",
            "Iteration: 182, named_losses: [('ActivationMax Loss', -629.92206),\n",
            " ('L-6.0 Norm Loss', 0.82100075),\n",
            " ('TV(2.0) Loss', 331.30316)], overall loss: -297.79791259765625\n",
            "Iteration: 183, named_losses: [('ActivationMax Loss', -630.43427),\n",
            " ('L-6.0 Norm Loss', 0.8209591),\n",
            " ('TV(2.0) Loss', 332.87402)], overall loss: -296.7392578125\n",
            "Iteration: 184, named_losses: [('ActivationMax Loss', -630.5858),\n",
            " ('L-6.0 Norm Loss', 0.8214951),\n",
            " ('TV(2.0) Loss', 332.00006)], overall loss: -297.7642822265625\n",
            "Iteration: 185, named_losses: [('ActivationMax Loss', -631.18915),\n",
            " ('L-6.0 Norm Loss', 0.8219321),\n",
            " ('TV(2.0) Loss', 333.76514)], overall loss: -296.60205078125\n",
            "Iteration: 186, named_losses: [('ActivationMax Loss', -630.19934),\n",
            " ('L-6.0 Norm Loss', 0.8214288),\n",
            " ('TV(2.0) Loss', 331.41934)], overall loss: -297.9585876464844\n",
            "Iteration: 187, named_losses: [('ActivationMax Loss', -631.4637),\n",
            " ('L-6.0 Norm Loss', 0.82203066),\n",
            " ('TV(2.0) Loss', 334.25406)], overall loss: -296.3876037597656\n",
            "Iteration: 188, named_losses: [('ActivationMax Loss', -631.48517),\n",
            " ('L-6.0 Norm Loss', 0.8226813),\n",
            " ('TV(2.0) Loss', 332.85925)], overall loss: -297.80322265625\n",
            "Iteration: 189, named_losses: [('ActivationMax Loss', -631.8819),\n",
            " ('L-6.0 Norm Loss', 0.82197475),\n",
            " ('TV(2.0) Loss', 334.5226)], overall loss: -296.5373229980469\n",
            "Iteration: 190, named_losses: [('ActivationMax Loss', -631.24786),\n",
            " ('L-6.0 Norm Loss', 0.8233406),\n",
            " ('TV(2.0) Loss', 332.58585)], overall loss: -297.8386535644531\n",
            "Iteration: 191, named_losses: [('ActivationMax Loss', -630.977),\n",
            " ('L-6.0 Norm Loss', 0.82190734),\n",
            " ('TV(2.0) Loss', 333.48868)], overall loss: -296.6664123535156\n",
            "Iteration: 192, named_losses: [('ActivationMax Loss', -631.98615),\n",
            " ('L-6.0 Norm Loss', 0.8226074),\n",
            " ('TV(2.0) Loss', 333.628)], overall loss: -297.5355224609375\n",
            "Iteration: 193, named_losses: [('ActivationMax Loss', -631.3715),\n",
            " ('L-6.0 Norm Loss', 0.82287055),\n",
            " ('TV(2.0) Loss', 333.54095)], overall loss: -297.0076904296875\n",
            "Iteration: 194, named_losses: [('ActivationMax Loss', -632.4041),\n",
            " ('L-6.0 Norm Loss', 0.8230578),\n",
            " ('TV(2.0) Loss', 333.71796)], overall loss: -297.86309814453125\n",
            "Iteration: 195, named_losses: [('ActivationMax Loss', -630.7566),\n",
            " ('L-6.0 Norm Loss', 0.8227715),\n",
            " ('TV(2.0) Loss', 332.25687)], overall loss: -297.6769714355469\n",
            "Iteration: 196, named_losses: [('ActivationMax Loss', -632.39575),\n",
            " ('L-6.0 Norm Loss', 0.8232747),\n",
            " ('TV(2.0) Loss', 334.09753)], overall loss: -297.47491455078125\n",
            "Iteration: 197, named_losses: [('ActivationMax Loss', -631.80396),\n",
            " ('L-6.0 Norm Loss', 0.8236293),\n",
            " ('TV(2.0) Loss', 333.63394)], overall loss: -297.3464050292969\n",
            "Iteration: 198, named_losses: [('ActivationMax Loss', -632.7725),\n",
            " ('L-6.0 Norm Loss', 0.82250327),\n",
            " ('TV(2.0) Loss', 334.17462)], overall loss: -297.775390625\n",
            "Iteration: 199, named_losses: [('ActivationMax Loss', -631.64874),\n",
            " ('L-6.0 Norm Loss', 0.82301587),\n",
            " ('TV(2.0) Loss', 333.80234)], overall loss: -297.0234069824219\n",
            "Iteration: 200, named_losses: [('ActivationMax Loss', -633.17487),\n",
            " ('L-6.0 Norm Loss', 0.82336044),\n",
            " ('TV(2.0) Loss', 334.79416)], overall loss: -297.5573425292969\n"
          ],
          "name": "stdout"
        },
        {
          "output_type": "execute_result",
          "data": {
            "text/plain": [
              "<matplotlib.image.AxesImage at 0x7fc88eeae1d0>"
            ]
          },
          "metadata": {
            "tags": []
          },
          "execution_count": 5
        },
        {
          "output_type": "display_data",
          "data": {
            "image/png": "[encoded data removed]",
            "text/plain": [
              "<Figure size 1296x432 with 1 Axes>"
            ]
          },
          "metadata": {
            "tags": []
          }
        }
      ]
    },
    {
      "metadata": {
        "id": "eQc5NVf3VBxq",
        "colab_type": "text"
      },
      "cell_type": "markdown",
      "source": [
        "## 4 - Visualizing the activation maximization for all classes (digits 0 to 9)"
      ]
    },
    {
      "metadata": {
        "id": "EVkv3SMnVPLy",
        "colab_type": "code",
        "outputId": "5672fab9-6b91-4267-b085-c528cc1ad936",
        "colab": {
          "base_uri": "https://localhost:8080/",
          "height": 3737
        }
      },
      "cell_type": "code",
      "source": [
        "# Generating visualizations for all classes (0-9)\n",
        "for output_idx in np.arange(10):\n",
        "    img = visualize_activation(model, layer_idx, filter_indices=output_idx, input_range=(0., 1.))\n",
        "    plt.figure()\n",
        "    plt.title('Networks perception of {}'.format(output_idx))\n",
        "    plt.imshow(img[..., 0])"
      ],
      "execution_count": 0,
      "outputs": [
        {
          "output_type": "display_data",
          "data": {
            "image/png": "[encoded data removed]",
            "text/plain": [
              "<Figure size 1296x432 with 1 Axes>"
            ]
          },
          "metadata": {
            "tags": []
          }
        },
        {
          "output_type": "display_data",
          "data": {
            "image/png": "[encoded data removed]",
            "text/plain": [
              "<Figure size 1296x432 with 1 Axes>"
            ]
          },
          "metadata": {
            "tags": []
          }
        },
        {
          "output_type": "display_data",
          "data": {
            "image/png": "[encoded data removed]",
            "text/plain": [
              "<Figure size 1296x432 with 1 Axes>"
            ]
          },
          "metadata": {
            "tags": []
          }
        },
        {
          "output_type": "display_data",
          "data": {
            "image/png": "[encoded data removed]",
            "text/plain": [
              "<Figure size 1296x432 with 1 Axes>"
            ]
          },
          "metadata": {
            "tags": []
          }
        },
        {
          "output_type": "display_data",
          "data": {
            "image/png": "[encoded data removed]",
            "text/plain": [
              "<Figure size 1296x432 with 1 Axes>"
            ]
          },
          "metadata": {
            "tags": []
          }
        },
        {
          "output_type": "display_data",
          "data": {
            "image/png": "[encoded data removed]",
            "text/plain": [
              "<Figure size 1296x432 with 1 Axes>"
            ]
          },
          "metadata": {
            "tags": []
          }
        },
        {
          "output_type": "display_data",
          "data": {
            "image/png": "[encoded data removed]",
            "text/plain": [
              "<Figure size 1296x432 with 1 Axes>"
            ]
          },
          "metadata": {
            "tags": []
          }
        },
        {
          "output_type": "display_data",
          "data": {
            "image/png": "[encoded data removed]",
            "text/plain": [
              "<Figure size 1296x432 with 1 Axes>"
            ]
          },
          "metadata": {
            "tags": []
          }
        },
        {
          "output_type": "display_data",
          "data": {
            "image/png": "[encoded data removed]",
            "text/plain": [
              "<Figure size 1296x432 with 1 Axes>"
            ]
          },
          "metadata": {
            "tags": []
          }
        },
        {
          "output_type": "display_data",
          "data": {
            "image/png": "[encoded data removed]",
            "text/plain": [
              "<Figure size 1296x432 with 1 Axes>"
            ]
          },
          "metadata": {
            "tags": []
          }
        }
      ]
    }
  ]
}