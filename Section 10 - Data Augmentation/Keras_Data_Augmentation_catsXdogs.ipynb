{
  "nbformat": 4,
  "nbformat_minor": 0,
  "metadata": {
    "colab": {
      "name": "Keras_Data_Augmentation.ipynb",
      "version": "0.3.2",
      "provenance": [],
      "collapsed_sections": []
    },
    "kernelspec": {
      "name": "python3",
      "display_name": "Python 3"
    },
    "accelerator": "GPU"
  },
  "cells": [
    {
      "metadata": {
        "id": "WqCPz3RRKgbO",
        "colab_type": "text"
      },
      "cell_type": "markdown",
      "source": [
        "# Data Augmentation Dogs x Cats dataset with Keras"
      ]
    },
    {
      "metadata": {
        "id": "4EkT6f-VKlzI",
        "colab_type": "text"
      },
      "cell_type": "markdown",
      "source": [
        "## Download and extract dataset"
      ]
    },
    {
      "metadata": {
        "id": "YiuL5LMTKZ86",
        "colab_type": "code",
        "colab": {
          "base_uri": "https://localhost:8080/",
          "height": 208
        },
        "outputId": "263f99ae-a27e-40e3-ed77-9d5fbe7656e1"
      },
      "cell_type": "code",
      "source": [
        "!wget --no-check-certificate \\\n",
        "    https://storage.googleapis.com/mledu-datasets/cats_and_dogs_filtered.zip \\\n",
        "    -O /tmp/cats_and_dogs_filtered.zip"
      ],
      "execution_count": 1,
      "outputs": [
        {
          "output_type": "stream",
          "text": [
            "--2019-01-28 17:14:22--  https://storage.googleapis.com/mledu-datasets/cats_and_dogs_filtered.zip\n",
            "Resolving storage.googleapis.com (storage.googleapis.com)... 108.177.97.128, 2404:6800:4008:c06::80\n",
            "Connecting to storage.googleapis.com (storage.googleapis.com)|108.177.97.128|:443... connected.\n",
            "HTTP request sent, awaiting response... 200 OK\n",
            "Length: 68606236 (65M) [application/zip]\n",
            "Saving to: ‘/tmp/cats_and_dogs_filtered.zip’\n",
            "\n",
            "\r          /tmp/cats   0%[                    ]       0  --.-KB/s               \r         /tmp/cats_   6%[>                   ]   4.01M  11.0MB/s               \r        /tmp/cats_a  48%[========>           ]  32.01M  51.3MB/s               \r       /tmp/cats_an  98%[==================> ]  64.71M  78.6MB/s               \r/tmp/cats_and_dogs_ 100%[===================>]  65.43M  79.2MB/s    in 0.8s    \n",
            "\n",
            "2019-01-28 17:14:23 (79.2 MB/s) - ‘/tmp/cats_and_dogs_filtered.zip’ saved [68606236/68606236]\n",
            "\n"
          ],
          "name": "stdout"
        }
      ]
    },
    {
      "metadata": {
        "id": "FJxvU8zKKtOH",
        "colab_type": "code",
        "colab": {}
      },
      "cell_type": "code",
      "source": [
        "import os\n",
        "import zipfile\n",
        "\n",
        "local_zip = '/tmp/cats_and_dogs_filtered.zip'\n",
        "zip_ref = zipfile.ZipFile(local_zip, 'r')\n",
        "zip_ref.extractall('/tmp')\n",
        "zip_ref.close()"
      ],
      "execution_count": 0,
      "outputs": []
    },
    {
      "metadata": {
        "id": "BUfKYy5ZK8Xl",
        "colab_type": "text"
      },
      "cell_type": "markdown",
      "source": [
        ""
      ]
    },
    {
      "metadata": {
        "id": "GVD65vsbK8k2",
        "colab_type": "text"
      },
      "cell_type": "markdown",
      "source": [
        "## Splitting into a training and test/validation dataset"
      ]
    },
    {
      "metadata": {
        "id": "5-GOurFtLAz4",
        "colab_type": "code",
        "colab": {}
      },
      "cell_type": "code",
      "source": [
        "import os\n",
        "\n",
        "base_dir = '/tmp/cats_and_dogs_filtered'\n",
        "train_data_dir = os.path.join(base_dir, 'train')\n",
        "validation_data_dir = os.path.join(base_dir, 'validation')\n",
        "\n",
        "# Directory with our training cat pictures\n",
        "train_cats_dir = os.path.join(train_data_dir, 'cats')\n",
        "\n",
        "# Directory with our training dog pictures\n",
        "train_dogs_dir = os.path.join(train_data_dir, 'dogs')\n",
        "\n",
        "# Directory with our validation cat pictures\n",
        "validation_cats_dir = os.path.join(validation_data_dir, 'cats')\n",
        "\n",
        "# Directory with our validation dog pictures\n",
        "validation_dogs_dir = os.path.join(validation_data_dir, 'dogs')"
      ],
      "execution_count": 0,
      "outputs": []
    },
    {
      "metadata": {
        "id": "YAOp2DP2MwiJ",
        "colab_type": "code",
        "colab": {
          "base_uri": "https://localhost:8080/",
          "height": 69
        },
        "outputId": "a5cf4b80-1f1f-4074-e78d-19b83179f9e4"
      },
      "cell_type": "code",
      "source": [
        "from keras.preprocessing.image import ImageDataGenerator\n",
        "\n",
        "img_width = 150\n",
        "img_height = 150\n",
        "\n",
        "# used to rescale the pixel values from [0, 255] to [0, 1] interval\n",
        "datagen = ImageDataGenerator(rescale=1./255)\n",
        "\n",
        "# automagically retrieve images and their classes for train and validation sets\n",
        "train_generator = datagen.flow_from_directory(\n",
        "        train_data_dir,\n",
        "        target_size=(img_width, img_height),\n",
        "        batch_size=16,\n",
        "        class_mode='binary')\n",
        "\n",
        "validation_generator = datagen.flow_from_directory(\n",
        "        validation_data_dir,\n",
        "        target_size=(img_width, img_height),\n",
        "        batch_size=32,\n",
        "        class_mode='binary')"
      ],
      "execution_count": 4,
      "outputs": [
        {
          "output_type": "stream",
          "text": [
            "Using TensorFlow backend.\n"
          ],
          "name": "stderr"
        },
        {
          "output_type": "stream",
          "text": [
            "Found 2000 images belonging to 2 classes.\n",
            "Found 1000 images belonging to 2 classes.\n"
          ],
          "name": "stdout"
        }
      ]
    },
    {
      "metadata": {
        "id": "OUqChCnDNKxX",
        "colab_type": "code",
        "colab": {
          "base_uri": "https://localhost:8080/",
          "height": 86
        },
        "outputId": "90db01e4-6223-4621-b921-34d67f6fdd93"
      },
      "cell_type": "code",
      "source": [
        "# Show batch informations\n",
        "\n",
        "x1, y1 = train_generator.next()\n",
        "x2, y2 = validation_generator.next()\n",
        "\n",
        "print(x1.shape)\n",
        "print(y1.shape)\n",
        "print(x2.shape)\n",
        "print(y2.shape)"
      ],
      "execution_count": 5,
      "outputs": [
        {
          "output_type": "stream",
          "text": [
            "(16, 150, 150, 3)\n",
            "(16,)\n",
            "(32, 150, 150, 3)\n",
            "(32,)\n"
          ],
          "name": "stdout"
        }
      ]
    },
    {
      "metadata": {
        "id": "KhTlVhBjQHO4",
        "colab_type": "text"
      },
      "cell_type": "markdown",
      "source": [
        "## Building a CNN model"
      ]
    },
    {
      "metadata": {
        "id": "NHAvHxtQQJ-s",
        "colab_type": "code",
        "colab": {
          "base_uri": "https://localhost:8080/",
          "height": 677
        },
        "outputId": "db85e1c2-595d-42e3-e31b-3a39a26db01d"
      },
      "cell_type": "code",
      "source": [
        "from __future__ import print_function\n",
        "import keras\n",
        "from keras.models import Sequential\n",
        "from keras.layers import Dense, Dropout, Activation, Flatten\n",
        "from keras.layers import Conv2D, MaxPooling2D\n",
        "\n",
        "nb_train_samples = 2000\n",
        "nb_validation_samples = 1000\n",
        "batch_size = 16\n",
        "epochs = 25\n",
        "\n",
        "img_rows = x1[0].shape[0]\n",
        "img_cols = x1[0].shape[1]\n",
        "input_shape = (img_rows, img_cols, 3)\n",
        "\n",
        "model = Sequential()\n",
        "model.add(Conv2D(32, (3, 3), input_shape=input_shape))\n",
        "model.add(Activation('relu'))\n",
        "model.add(MaxPooling2D(pool_size=(2, 2)))\n",
        "\n",
        "model.add(Conv2D(32, (3, 3)))\n",
        "model.add(Activation('relu'))\n",
        "model.add(MaxPooling2D(pool_size=(2, 2)))\n",
        "\n",
        "model.add(Conv2D(64, (3, 3)))\n",
        "model.add(Activation('relu'))\n",
        "model.add(MaxPooling2D(pool_size=(2, 2)))\n",
        "\n",
        "model.add(Flatten())\n",
        "model.add(Dense(64))\n",
        "model.add(Activation('relu'))\n",
        "model.add(Dropout(0.5))\n",
        "model.add(Dense(1))\n",
        "model.add(Activation('sigmoid'))\n",
        "\n",
        "model.compile(loss='binary_crossentropy',\n",
        "              optimizer='rmsprop',\n",
        "              metrics=['accuracy'])\n",
        "\n",
        "print(model.summary())"
      ],
      "execution_count": 6,
      "outputs": [
        {
          "output_type": "stream",
          "text": [
            "_________________________________________________________________\n",
            "Layer (type)                 Output Shape              Param #   \n",
            "=================================================================\n",
            "conv2d_1 (Conv2D)            (None, 148, 148, 32)      896       \n",
            "_________________________________________________________________\n",
            "activation_1 (Activation)    (None, 148, 148, 32)      0         \n",
            "_________________________________________________________________\n",
            "max_pooling2d_1 (MaxPooling2 (None, 74, 74, 32)        0         \n",
            "_________________________________________________________________\n",
            "conv2d_2 (Conv2D)            (None, 72, 72, 32)        9248      \n",
            "_________________________________________________________________\n",
            "activation_2 (Activation)    (None, 72, 72, 32)        0         \n",
            "_________________________________________________________________\n",
            "max_pooling2d_2 (MaxPooling2 (None, 36, 36, 32)        0         \n",
            "_________________________________________________________________\n",
            "conv2d_3 (Conv2D)            (None, 34, 34, 64)        18496     \n",
            "_________________________________________________________________\n",
            "activation_3 (Activation)    (None, 34, 34, 64)        0         \n",
            "_________________________________________________________________\n",
            "max_pooling2d_3 (MaxPooling2 (None, 17, 17, 64)        0         \n",
            "_________________________________________________________________\n",
            "flatten_1 (Flatten)          (None, 18496)             0         \n",
            "_________________________________________________________________\n",
            "dense_1 (Dense)              (None, 64)                1183808   \n",
            "_________________________________________________________________\n",
            "activation_4 (Activation)    (None, 64)                0         \n",
            "_________________________________________________________________\n",
            "dropout_1 (Dropout)          (None, 64)                0         \n",
            "_________________________________________________________________\n",
            "dense_2 (Dense)              (None, 1)                 65        \n",
            "_________________________________________________________________\n",
            "activation_5 (Activation)    (None, 1)                 0         \n",
            "=================================================================\n",
            "Total params: 1,212,513\n",
            "Trainable params: 1,212,513\n",
            "Non-trainable params: 0\n",
            "_________________________________________________________________\n",
            "None\n"
          ],
          "name": "stdout"
        }
      ]
    },
    {
      "metadata": {
        "id": "7EhvrC5SQnlr",
        "colab_type": "text"
      },
      "cell_type": "markdown",
      "source": [
        "## Training the model"
      ]
    },
    {
      "metadata": {
        "id": "IYsRuzhFQxvY",
        "colab_type": "code",
        "colab": {
          "base_uri": "https://localhost:8080/",
          "height": 937
        },
        "outputId": "1fcc0647-527a-43a5-e95d-23130dd5ecbb"
      },
      "cell_type": "code",
      "source": [
        "history = model.fit_generator(\n",
        "    train_generator,\n",
        "    steps_per_epoch = nb_train_samples // batch_size,\n",
        "    epochs = epochs,\n",
        "    validation_data = validation_generator,\n",
        "    validation_steps = nb_validation_samples // batch_size,\n",
        "    shuffle = True,\n",
        "    verbose = 1)\n",
        "\n",
        "model.save(\"cats_vs_dogs_V1.h5\")\n",
        "\n",
        "# Evaluate the performance of our trained model\n",
        "scores = model.evaluate_generator(validation_generator, \n",
        "                                  steps = nb_validation_samples // batch_size, \n",
        "                                  verbose=1)\n",
        "\n",
        "print('Test loss:', scores[0])\n",
        "print('Test accuracy:', scores[1])"
      ],
      "execution_count": 7,
      "outputs": [
        {
          "output_type": "stream",
          "text": [
            "Epoch 1/25\n",
            "125/125 [==============================] - 15s 124ms/step - loss: 0.7174 - acc: 0.5305 - val_loss: 0.6501 - val_acc: 0.6633\n",
            "Epoch 2/25\n",
            "125/125 [==============================] - 13s 106ms/step - loss: 0.6533 - acc: 0.6205 - val_loss: 0.6258 - val_acc: 0.6364\n",
            "Epoch 3/25\n",
            "125/125 [==============================] - 13s 106ms/step - loss: 0.6064 - acc: 0.6755 - val_loss: 0.6395 - val_acc: 0.6550\n",
            "Epoch 4/25\n",
            "125/125 [==============================] - 13s 104ms/step - loss: 0.5713 - acc: 0.7085 - val_loss: 0.5901 - val_acc: 0.6921\n",
            "Epoch 5/25\n",
            "125/125 [==============================] - 13s 107ms/step - loss: 0.5084 - acc: 0.7570 - val_loss: 0.5301 - val_acc: 0.7536\n",
            "Epoch 6/25\n",
            "125/125 [==============================] - 13s 105ms/step - loss: 0.4737 - acc: 0.7785 - val_loss: 0.6204 - val_acc: 0.7025\n",
            "Epoch 7/25\n",
            "125/125 [==============================] - 13s 105ms/step - loss: 0.4414 - acc: 0.7945 - val_loss: 0.6949 - val_acc: 0.6756\n",
            "Epoch 8/25\n",
            "125/125 [==============================] - 13s 107ms/step - loss: 0.3915 - acc: 0.8165 - val_loss: 0.6153 - val_acc: 0.7381\n",
            "Epoch 9/25\n",
            "125/125 [==============================] - 13s 106ms/step - loss: 0.3499 - acc: 0.8455 - val_loss: 0.5593 - val_acc: 0.7552\n",
            "Epoch 10/25\n",
            "125/125 [==============================] - 13s 104ms/step - loss: 0.3239 - acc: 0.8575 - val_loss: 0.5996 - val_acc: 0.7567\n",
            "Epoch 11/25\n",
            "125/125 [==============================] - 13s 105ms/step - loss: 0.2867 - acc: 0.8845 - val_loss: 0.6716 - val_acc: 0.7464\n",
            "Epoch 12/25\n",
            "125/125 [==============================] - 13s 107ms/step - loss: 0.2452 - acc: 0.9010 - val_loss: 0.7338 - val_acc: 0.7417\n",
            "Epoch 13/25\n",
            "125/125 [==============================] - 13s 104ms/step - loss: 0.2036 - acc: 0.9195 - val_loss: 0.7837 - val_acc: 0.7624\n",
            "Epoch 14/25\n",
            "125/125 [==============================] - 13s 104ms/step - loss: 0.1870 - acc: 0.9195 - val_loss: 0.8894 - val_acc: 0.7402\n",
            "Epoch 15/25\n",
            "125/125 [==============================] - 13s 106ms/step - loss: 0.1676 - acc: 0.9340 - val_loss: 1.0162 - val_acc: 0.7304\n",
            "Epoch 16/25\n",
            "125/125 [==============================] - 13s 105ms/step - loss: 0.1396 - acc: 0.9510 - val_loss: 1.0344 - val_acc: 0.7381\n",
            "Epoch 17/25\n",
            "125/125 [==============================] - 13s 105ms/step - loss: 0.1561 - acc: 0.9470 - val_loss: 1.1984 - val_acc: 0.7459\n",
            "Epoch 18/25\n",
            "125/125 [==============================] - 13s 106ms/step - loss: 0.1382 - acc: 0.9560 - val_loss: 0.9676 - val_acc: 0.7495\n",
            "Epoch 19/25\n",
            "125/125 [==============================] - 13s 106ms/step - loss: 0.1135 - acc: 0.9605 - val_loss: 1.0626 - val_acc: 0.7423\n",
            "Epoch 20/25\n",
            "125/125 [==============================] - 13s 105ms/step - loss: 0.1208 - acc: 0.9620 - val_loss: 1.2249 - val_acc: 0.7330\n",
            "Epoch 21/25\n",
            "125/125 [==============================] - 13s 104ms/step - loss: 0.1229 - acc: 0.9550 - val_loss: 1.0335 - val_acc: 0.7397\n",
            "Epoch 22/25\n",
            "125/125 [==============================] - 13s 106ms/step - loss: 0.1164 - acc: 0.9630 - val_loss: 0.8867 - val_acc: 0.7495\n",
            "Epoch 23/25\n",
            "125/125 [==============================] - 13s 106ms/step - loss: 0.1267 - acc: 0.9545 - val_loss: 1.3700 - val_acc: 0.7159\n",
            "Epoch 24/25\n",
            "125/125 [==============================] - 13s 106ms/step - loss: 0.1431 - acc: 0.9615 - val_loss: 1.5058 - val_acc: 0.7588\n",
            "Epoch 25/25\n",
            "125/125 [==============================] - 13s 105ms/step - loss: 0.1397 - acc: 0.9560 - val_loss: 1.9333 - val_acc: 0.7464\n",
            "62/62 [==============================] - 6s 104ms/step\n",
            "Test loss: 2.0038804643410297\n",
            "Test accuracy: 0.7386363636363636\n"
          ],
          "name": "stdout"
        }
      ]
    },
    {
      "metadata": {
        "id": "7O5SJR9xetCR",
        "colab_type": "text"
      },
      "cell_type": "markdown",
      "source": [
        "## Training a Classifier with Data Augmentation"
      ]
    },
    {
      "metadata": {
        "id": "KCQOVExqey4U",
        "colab_type": "code",
        "colab": {
          "base_uri": "https://localhost:8080/",
          "height": 1580
        },
        "outputId": "edf0a507-8e21-4291-bd0a-86c13667a731"
      },
      "cell_type": "code",
      "source": [
        "import os\n",
        "import numpy as np\n",
        "from keras.models import Sequential\n",
        "from keras.layers import Activation, Dropout, Flatten, Dense\n",
        "from keras.preprocessing.image import ImageDataGenerator\n",
        "from keras.layers import Conv2D, MaxPooling2D, ZeroPadding2D\n",
        "from keras import optimizers\n",
        "import scipy\n",
        "import pylab as pl\n",
        "import matplotlib.cm as cm\n",
        "%matplotlib inline\n",
        "\n",
        "input_shape = (150, 150, 3)\n",
        "img_width = 150\n",
        "img_height = 150\n",
        "\n",
        "nb_train_samples = 2000\n",
        "nb_validation_samples = 1000\n",
        "batch_size = 16\n",
        "epochs = 25\n",
        "\n",
        "# Creating our data generator for our test data\n",
        "validation_datagen = ImageDataGenerator(\n",
        "    # used to rescale the pixel values from [0, 255] to [0, 1] interval\n",
        "    rescale = 1./255)\n",
        "\n",
        "# Creating our data generator for our training data\n",
        "train_datagen = ImageDataGenerator(\n",
        "      rescale = 1./255,              # normalize pixel values to [0,1]\n",
        "      rotation_range = 30,           # randomly applies rotations\n",
        "      width_shift_range = 0.3,       # randomly applies width shifting\n",
        "      height_shift_range = 0.3,      # randomly applies height shifting\n",
        "      horizontal_flip = True,        # randomly flips the image\n",
        "      fill_mode = 'nearest')         # uses the fill mode nearest to fill gaps created by the above\n",
        "\n",
        "# Specify criteria about our training data, such as the directory, image size, batch size and type \n",
        "# automagically retrieve images and their classes for train and validation sets\n",
        "train_generator = train_datagen.flow_from_directory(\n",
        "        train_data_dir,\n",
        "        target_size = (img_width, img_height),\n",
        "        batch_size = batch_size,\n",
        "        class_mode = 'binary',\n",
        "        shuffle = True)\n",
        "\n",
        "validation_generator = validation_datagen.flow_from_directory(\n",
        "        validation_data_dir,\n",
        "        target_size = (img_width, img_height),\n",
        "        batch_size = batch_size,\n",
        "        class_mode = 'binary',\n",
        "        shuffle = False)\n",
        "\n",
        "# Building the model\n",
        "\n",
        "model = Sequential()\n",
        "model.add(Conv2D(32, (3, 3), input_shape=input_shape))\n",
        "model.add(Activation('relu'))\n",
        "model.add(MaxPooling2D(pool_size=(2, 2)))\n",
        "\n",
        "model.add(Conv2D(32, (3, 3)))\n",
        "model.add(Activation('relu'))\n",
        "model.add(MaxPooling2D(pool_size=(2, 2)))\n",
        "\n",
        "model.add(Conv2D(64, (3, 3)))\n",
        "model.add(Activation('relu'))\n",
        "model.add(MaxPooling2D(pool_size=(2, 2)))\n",
        "\n",
        "model.add(Flatten())\n",
        "model.add(Dense(64))\n",
        "model.add(Activation('relu'))\n",
        "model.add(Dropout(0.5))\n",
        "model.add(Dense(1))\n",
        "model.add(Activation('sigmoid'))\n",
        "\n",
        "print(model.summary())\n",
        "\n",
        "model.compile(loss='binary_crossentropy',\n",
        "              optimizer='rmsprop',\n",
        "              metrics=['accuracy'])\n",
        "\n",
        "# Training the model\n",
        "\n",
        "history = model.fit_generator(\n",
        "    train_generator,\n",
        "    steps_per_epoch = nb_train_samples // batch_size,\n",
        "    epochs = epochs,\n",
        "    validation_data = validation_generator,\n",
        "    validation_steps = nb_validation_samples // batch_size)"
      ],
      "execution_count": 8,
      "outputs": [
        {
          "output_type": "stream",
          "text": [
            "Found 2000 images belonging to 2 classes.\n",
            "Found 1000 images belonging to 2 classes.\n",
            "_________________________________________________________________\n",
            "Layer (type)                 Output Shape              Param #   \n",
            "=================================================================\n",
            "conv2d_4 (Conv2D)            (None, 148, 148, 32)      896       \n",
            "_________________________________________________________________\n",
            "activation_6 (Activation)    (None, 148, 148, 32)      0         \n",
            "_________________________________________________________________\n",
            "max_pooling2d_4 (MaxPooling2 (None, 74, 74, 32)        0         \n",
            "_________________________________________________________________\n",
            "conv2d_5 (Conv2D)            (None, 72, 72, 32)        9248      \n",
            "_________________________________________________________________\n",
            "activation_7 (Activation)    (None, 72, 72, 32)        0         \n",
            "_________________________________________________________________\n",
            "max_pooling2d_5 (MaxPooling2 (None, 36, 36, 32)        0         \n",
            "_________________________________________________________________\n",
            "conv2d_6 (Conv2D)            (None, 34, 34, 64)        18496     \n",
            "_________________________________________________________________\n",
            "activation_8 (Activation)    (None, 34, 34, 64)        0         \n",
            "_________________________________________________________________\n",
            "max_pooling2d_6 (MaxPooling2 (None, 17, 17, 64)        0         \n",
            "_________________________________________________________________\n",
            "flatten_2 (Flatten)          (None, 18496)             0         \n",
            "_________________________________________________________________\n",
            "dense_3 (Dense)              (None, 64)                1183808   \n",
            "_________________________________________________________________\n",
            "activation_9 (Activation)    (None, 64)                0         \n",
            "_________________________________________________________________\n",
            "dropout_2 (Dropout)          (None, 64)                0         \n",
            "_________________________________________________________________\n",
            "dense_4 (Dense)              (None, 1)                 65        \n",
            "_________________________________________________________________\n",
            "activation_10 (Activation)   (None, 1)                 0         \n",
            "=================================================================\n",
            "Total params: 1,212,513\n",
            "Trainable params: 1,212,513\n",
            "Non-trainable params: 0\n",
            "_________________________________________________________________\n",
            "None\n",
            "Epoch 1/25\n",
            "125/125 [==============================] - 21s 170ms/step - loss: 0.7507 - acc: 0.5085 - val_loss: 0.6791 - val_acc: 0.5736\n",
            "Epoch 2/25\n",
            "125/125 [==============================] - 20s 160ms/step - loss: 0.6850 - acc: 0.5695 - val_loss: 0.7739 - val_acc: 0.5528\n",
            "Epoch 3/25\n",
            "125/125 [==============================] - 20s 160ms/step - loss: 0.6783 - acc: 0.5955 - val_loss: 0.6359 - val_acc: 0.5894\n",
            "Epoch 4/25\n",
            "125/125 [==============================] - 20s 160ms/step - loss: 0.6713 - acc: 0.6135 - val_loss: 0.6344 - val_acc: 0.6128\n",
            "Epoch 5/25\n",
            "125/125 [==============================] - 20s 160ms/step - loss: 0.6689 - acc: 0.6120 - val_loss: 0.6393 - val_acc: 0.6514\n",
            "Epoch 6/25\n",
            "125/125 [==============================] - 20s 160ms/step - loss: 0.6577 - acc: 0.6255 - val_loss: 0.6052 - val_acc: 0.6961\n",
            "Epoch 7/25\n",
            "125/125 [==============================] - 20s 160ms/step - loss: 0.6426 - acc: 0.6270 - val_loss: 0.5964 - val_acc: 0.6829\n",
            "Epoch 8/25\n",
            "125/125 [==============================] - 20s 160ms/step - loss: 0.6403 - acc: 0.6460 - val_loss: 0.5808 - val_acc: 0.7093\n",
            "Epoch 9/25\n",
            "125/125 [==============================] - 20s 160ms/step - loss: 0.6353 - acc: 0.6480 - val_loss: 0.5842 - val_acc: 0.7063\n",
            "Epoch 10/25\n",
            "125/125 [==============================] - 20s 160ms/step - loss: 0.6283 - acc: 0.6620 - val_loss: 0.5901 - val_acc: 0.7012\n",
            "Epoch 11/25\n",
            "125/125 [==============================] - 20s 160ms/step - loss: 0.6379 - acc: 0.6715 - val_loss: 0.5589 - val_acc: 0.7022\n",
            "Epoch 12/25\n",
            "125/125 [==============================] - 20s 161ms/step - loss: 0.6324 - acc: 0.6535 - val_loss: 0.5733 - val_acc: 0.6890\n",
            "Epoch 13/25\n",
            "125/125 [==============================] - 20s 160ms/step - loss: 0.6437 - acc: 0.6565 - val_loss: 0.6592 - val_acc: 0.6372\n",
            "Epoch 14/25\n",
            "125/125 [==============================] - 20s 159ms/step - loss: 0.6249 - acc: 0.6710 - val_loss: 0.6131 - val_acc: 0.6768\n",
            "Epoch 15/25\n",
            "125/125 [==============================] - 20s 160ms/step - loss: 0.6113 - acc: 0.6790 - val_loss: 0.6098 - val_acc: 0.6697\n",
            "Epoch 16/25\n",
            "125/125 [==============================] - 20s 162ms/step - loss: 0.6204 - acc: 0.6810 - val_loss: 0.5520 - val_acc: 0.7144\n",
            "Epoch 17/25\n",
            "125/125 [==============================] - 20s 161ms/step - loss: 0.6132 - acc: 0.6805 - val_loss: 0.6414 - val_acc: 0.6463\n",
            "Epoch 18/25\n",
            "125/125 [==============================] - 20s 161ms/step - loss: 0.6268 - acc: 0.6695 - val_loss: 0.6237 - val_acc: 0.6413\n",
            "Epoch 19/25\n",
            "125/125 [==============================] - 20s 162ms/step - loss: 0.6098 - acc: 0.6875 - val_loss: 0.5674 - val_acc: 0.7175\n",
            "Epoch 20/25\n",
            "125/125 [==============================] - 20s 160ms/step - loss: 0.6261 - acc: 0.6845 - val_loss: 0.5708 - val_acc: 0.7043\n",
            "Epoch 21/25\n",
            "125/125 [==============================] - 20s 161ms/step - loss: 0.6122 - acc: 0.6900 - val_loss: 0.5907 - val_acc: 0.6911\n",
            "Epoch 22/25\n",
            "125/125 [==============================] - 20s 161ms/step - loss: 0.6125 - acc: 0.6780 - val_loss: 0.5570 - val_acc: 0.7256\n",
            "Epoch 23/25\n",
            "125/125 [==============================] - 20s 160ms/step - loss: 0.6051 - acc: 0.6930 - val_loss: 0.5603 - val_acc: 0.7297\n",
            "Epoch 24/25\n",
            "125/125 [==============================] - 20s 160ms/step - loss: 0.6055 - acc: 0.6810 - val_loss: 0.5412 - val_acc: 0.7297\n",
            "Epoch 25/25\n",
            "125/125 [==============================] - 20s 160ms/step - loss: 0.6090 - acc: 0.6855 - val_loss: 0.5560 - val_acc: 0.7154\n"
          ],
          "name": "stdout"
        }
      ]
    },
    {
      "metadata": {
        "id": "ndc0HWLKhi0Y",
        "colab_type": "text"
      },
      "cell_type": "markdown",
      "source": [
        "## Plotting the Accuracy and Loss Graphs"
      ]
    },
    {
      "metadata": {
        "id": "5W8qVdSohmuX",
        "colab_type": "code",
        "colab": {
          "base_uri": "https://localhost:8080/",
          "height": 279
        },
        "outputId": "d24d9fe6-bbd0-436a-d98c-a8af3443ac5a"
      },
      "cell_type": "code",
      "source": [
        "# Plotting the loss charts\n",
        "import matplotlib.pyplot as plt\n",
        "\n",
        "history_dict = history.history\n",
        "\n",
        "loss_values = history_dict['loss']\n",
        "val_loss_values = history_dict['val_loss']\n",
        "epochs = range(1, len(loss_values) + 1)\n",
        "\n",
        "line1 = plt.plot(epochs, val_loss_values, label='Validation/Test Loss')\n",
        "line2 = plt.plot(epochs, loss_values, label='Training Loss')\n",
        "plt.setp(line1, linewidth=2.0, marker = '+', markersize=10.0)\n",
        "plt.setp(line2, linewidth=2.0, marker = '4', markersize=10.0)\n",
        "plt.xlabel('Epochs') \n",
        "plt.ylabel('Loss')\n",
        "plt.grid(True)\n",
        "plt.legend()\n",
        "plt.show()"
      ],
      "execution_count": 9,
      "outputs": [
        {
          "output_type": "display_data",
          "data": {
            "image/png": "[encoded data removed]",
            "text/plain": [
              "<Figure size 432x288 with 1 Axes>"
            ]
          },
          "metadata": {
            "tags": []
          }
        }
      ]
    },
    {
      "metadata": {
        "id": "m3NbBfbohv2I",
        "colab_type": "code",
        "colab": {
          "base_uri": "https://localhost:8080/",
          "height": 279
        },
        "outputId": "2c408818-acc4-42f9-e44d-7135c3623fc3"
      },
      "cell_type": "code",
      "source": [
        "# Plotting the accuracy charts\n",
        "import matplotlib.pyplot as plt\n",
        "\n",
        "history_dict = history.history\n",
        "\n",
        "acc_values = history_dict['acc']\n",
        "val_acc_values = history_dict['val_acc']\n",
        "epochs = range(1, len(loss_values) + 1)\n",
        "\n",
        "line1 = plt.plot(epochs, val_acc_values, label='Validation/Test Accuracy')\n",
        "line2 = plt.plot(epochs, acc_values, label='Training Accuracy')\n",
        "plt.setp(line1, linewidth=2.0, marker = '+', markersize=10.0)\n",
        "plt.setp(line2, linewidth=2.0, marker = '4', markersize=10.0)\n",
        "plt.xlabel('Epochs') \n",
        "plt.ylabel('Accuracy')\n",
        "plt.grid(True)\n",
        "plt.legend()\n",
        "plt.show()"
      ],
      "execution_count": 10,
      "outputs": [
        {
          "output_type": "display_data",
          "data": {
            "image/png": "[encoded data removed]",
            "text/plain": [
              "<Figure size 432x288 with 1 Axes>"
            ]
          },
          "metadata": {
            "tags": []
          }
        }
      ]
    }
  ]
}